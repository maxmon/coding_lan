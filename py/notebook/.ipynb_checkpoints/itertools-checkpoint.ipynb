{
 "cells": [
  {
   "cell_type": "markdown",
   "metadata": {},
   "source": [
    "[来源](http://wklken.me/posts/2013/08/20/python-extra-itertools.html#) or Evernote"
   ]
  },
  {
   "cell_type": "code",
   "execution_count": 1,
   "metadata": {
    "collapsed": true
   },
   "outputs": [],
   "source": [
    "from itertools import *\n",
    "from operator import itemgetter\n",
    "import os"
   ]
  },
  {
   "cell_type": "markdown",
   "metadata": {},
   "source": [
    "# 可无限迭代器\n",
    "\n",
    "#### 计数器 itertools.count(start=0, step=1)\n",
    "\n",
    "如果超出了sys.maxint，计数器将溢出并继续从-sys.maxint-1开始计算。"
   ]
  },
  {
   "cell_type": "code",
   "execution_count": 70,
   "metadata": {
    "collapsed": false
   },
   "outputs": [
    {
     "name": "stdout",
     "output_type": "stream",
     "text": [
      "0 a\n",
      "1 b\n",
      "2 c\n",
      "(1, 'a')\n",
      "(2, 'b')\n",
      "(3, 'c')\n"
     ]
    }
   ],
   "source": [
    "for i,v in enumerate(['a', 'b', 'c']): print i, v\n",
    "for i in izip(count(1), ['a', 'b', 'c']): print i"
   ]
  },
  {
   "cell_type": "markdown",
   "metadata": {},
   "source": [
    "#### 循环操作 itertools.cycle(iterable)\n",
    "\n",
    "创建一个迭代器，对iterable中的元素反复执行循环操作, 内部会生成iterable中的元素的一个副本"
   ]
  },
  {
   "cell_type": "code",
   "execution_count": 71,
   "metadata": {
    "collapsed": false
   },
   "outputs": [
    {
     "name": "stdout",
     "output_type": "stream",
     "text": [
      "(1, 'a')\n",
      "(2, 'b')\n",
      "(3, 'a')\n"
     ]
    }
   ],
   "source": [
    "i = 0 \n",
    "for item in cycle(['a', 'b']): \n",
    "    i += 1 \n",
    "    if i == 4: break \n",
    "    print (i, item)"
   ]
  },
  {
   "cell_type": "markdown",
   "metadata": {},
   "source": [
    "#### 重复生成 itertools.repeat(object[, times])\n",
    "\n",
    "创建一个迭代器，重复生成object，times（如果已提供）指定重复计数，如果未提供times，将无止尽返回该对象。"
   ]
  },
  {
   "cell_type": "code",
   "execution_count": 72,
   "metadata": {
    "collapsed": false
   },
   "outputs": [
    {
     "name": "stdout",
     "output_type": "stream",
     "text": [
      "over-and-over\n",
      "over-and-over\n",
      "over-and-over\n"
     ]
    }
   ],
   "source": [
    "for i in repeat('over-and-over', 3): print i"
   ]
  },
  {
   "cell_type": "markdown",
   "metadata": {},
   "source": [
    "# 处理输入序列迭代器"
   ]
  },
  {
   "cell_type": "markdown",
   "metadata": {},
   "source": [
    "#### 按selectors规则刷选数据 itertools.compress(data, selectors)\n",
    "\n",
    "见 itertools.ifilter"
   ]
  },
  {
   "cell_type": "code",
   "execution_count": 23,
   "metadata": {
    "collapsed": false
   },
   "outputs": [
    {
     "name": "stdout",
     "output_type": "stream",
     "text": [
      "A\n",
      "C\n",
      "D\n",
      "E\n"
     ]
    }
   ],
   "source": [
    "for i in compress('ABCDEF', cycle([1,0,1,1])):print i"
   ]
  },
  {
   "cell_type": "markdown",
   "metadata": {},
   "source": [
    "#### 刷选特定条件后的所有项 itertools.dropwhile(predicate, iterable)\n",
    "\n",
    "创建一个迭代器，只要函数predicate(item)为True，就丢弃iterable中的项，如果predicate返回False，就会生成iterable中的项和所有后续项。\n",
    "\n",
    "itertools.takewhile(predicate, iterable)"
   ]
  },
  {
   "cell_type": "code",
   "execution_count": 59,
   "metadata": {
    "collapsed": false
   },
   "outputs": [
    {
     "name": "stdout",
     "output_type": "stream",
     "text": [
      "1\n",
      "2\n",
      "3\n"
     ]
    }
   ],
   "source": [
    "for i in dropwhile(lambda x: x < 1, [ -1, 0, 1, 2, 3]): print i"
   ]
  },
  {
   "cell_type": "code",
   "execution_count": 60,
   "metadata": {
    "collapsed": false
   },
   "outputs": [
    {
     "name": "stdout",
     "output_type": "stream",
     "text": [
      "-1\n",
      "0\n"
     ]
    }
   ],
   "source": [
    "for i in takewhile(lambda x: x < 1, [ -1, 0, 1, 2, 3]): print i"
   ]
  },
  {
   "cell_type": "markdown",
   "metadata": {},
   "source": [
    "#### 按照key进行分组后的值集合的迭代器 tertools.groupby(iterable[, key])"
   ]
  },
  {
   "cell_type": "code",
   "execution_count": 33,
   "metadata": {
    "collapsed": false
   },
   "outputs": [
    {
     "name": "stdout",
     "output_type": "stream",
     "text": [
      "2 ['aa', 'ab']\n",
      "3 ['abc', 'bcd']\n",
      "5 ['abcde']\n",
      "k1 [['v1', 'k1']]\n",
      "k2 [['v2', 'k2'], ['v2', 'k2']]\n",
      "k3 [['v3', 'k3']]\n"
     ]
    }
   ],
   "source": [
    "a = ['aa', 'ab', 'abc', 'bcd', 'abcde']\n",
    "b = [['v1','k1'],['v2','k2'],['v2','k2'],['v3','k3']]\n",
    "for i, k in groupby(a, len): print i, list(k)\n",
    "for i, k in groupby(b, itemgetter(1)): print i, list(k)"
   ]
  },
  {
   "cell_type": "code",
   "execution_count": 37,
   "metadata": {
    "collapsed": false
   },
   "outputs": [
    {
     "name": "stdout",
     "output_type": "stream",
     "text": [
      "[('a', 1), ('c', 1), ('e', 1), ('b', 2), ('d', 2), ('f', 2), ('g', 3)]\n",
      "1 ['a', 'c', 'e']\n",
      "2 ['b', 'd', 'f']\n",
      "3 ['g']\n"
     ]
    }
   ],
   "source": [
    "d = dict(a=1, b=2, c=1, d=2, e=1, f=2, g=3)\n",
    "ds = sorted(d.iteritems(), key=itemgetter(1)) \n",
    "print ds\n",
    "for k, g in groupby(ds, key=itemgetter(1)): print k, map(itemgetter(0), g)"
   ]
  },
  {
   "cell_type": "markdown",
   "metadata": {},
   "source": [
    "#### 规则刷选filter iter版 itertools.ifilter(predicate, iterable)\n",
    "\n",
    "返回的是迭代器类似于针对列表的内置函数 filter() , 它只包括当测试函数返回true时的项. 它不同于 dropwhile()\n",
    "\n",
    "创建一个迭代器，仅生成iterable中predicate(item)为True的项\n",
    "\n",
    "itertools.ifilterfalse(predicate, iterable)\n",
    "和ifilter(函数相反 ， 返回一个包含那些测试函数返回false的项的迭代器)"
   ]
  },
  {
   "cell_type": "code",
   "execution_count": 42,
   "metadata": {
    "collapsed": false
   },
   "outputs": [
    {
     "name": "stdout",
     "output_type": "stream",
     "text": [
      "-1\n",
      "0\n"
     ]
    }
   ],
   "source": [
    "for i in ifilter(lambda x: x < 1, [ -1, 0, 1, 2, 3]): print i"
   ]
  },
  {
   "cell_type": "markdown",
   "metadata": {},
   "source": [
    "#### 切片返回值 itertools.islice(iterable, start, stop[, step])\n",
    "\n",
    "iterable[start : stop : step]"
   ]
  },
  {
   "cell_type": "code",
   "execution_count": 43,
   "metadata": {
    "collapsed": false
   },
   "outputs": [
    {
     "name": "stdout",
     "output_type": "stream",
     "text": [
      "0\n",
      "1\n"
     ]
    }
   ],
   "source": [
    "for i in islice(count(), 2): print i"
   ]
  },
  {
   "cell_type": "code",
   "execution_count": 44,
   "metadata": {
    "collapsed": false
   },
   "outputs": [
    {
     "name": "stdout",
     "output_type": "stream",
     "text": [
      "7\n",
      "8\n",
      "9\n"
     ]
    }
   ],
   "source": [
    "for i in islice(count(), 7, 10): print i "
   ]
  },
  {
   "cell_type": "code",
   "execution_count": 45,
   "metadata": {
    "collapsed": false
   },
   "outputs": [
    {
     "name": "stdout",
     "output_type": "stream",
     "text": [
      "70\n",
      "80\n",
      "90\n"
     ]
    }
   ],
   "source": [
    "for i in islice(count(), 70, 100, 10): print i"
   ]
  },
  {
   "cell_type": "markdown",
   "metadata": {},
   "source": [
    "#### map iter版 itertools.imap(function, *iterables)"
   ]
  },
  {
   "cell_type": "code",
   "execution_count": 5,
   "metadata": {
    "collapsed": false
   },
   "outputs": [
    {
     "name": "stdout",
     "output_type": "stream",
     "text": [
      "0\n",
      "2\n",
      "4\n"
     ]
    }
   ],
   "source": [
    "for i in imap(lambda x:2*x, xrange(3)): print i"
   ]
  },
  {
   "cell_type": "code",
   "execution_count": null,
   "metadata": {
    "collapsed": true
   },
   "outputs": [],
   "source": [
    "product([Path.GST_SECURITY], os.listdir(Path.GST_SECURITY), date_list, fqtype_list)"
   ]
  },
  {
   "cell_type": "markdown",
   "metadata": {},
   "source": [
    "#### map iter多参数版（迭代参数）itertools.starmap(function, iterable)\n",
    "\n",
    "【套路】 starmap(f,product(参数))\n",
    "\n",
    "`starmap(os.path.join, product([参数a], os.listdir(Path.GST_SECURITY), 参数iter))`"
   ]
  },
  {
   "cell_type": "code",
   "execution_count": 6,
   "metadata": {
    "collapsed": false
   },
   "outputs": [
    {
     "name": "stdout",
     "output_type": "stream",
     "text": [
      "0 * 5 = 0\n",
      "1 * 6 = 6\n"
     ]
    }
   ],
   "source": [
    "values = [(0, 5), (1, 6)]\n",
    "for i in starmap(lambda x,y:(x, y, x*y), values):\n",
    "    print '%d * %d = %d' % i"
   ]
  },
  {
   "cell_type": "code",
   "execution_count": null,
   "metadata": {
    "collapsed": true
   },
   "outputs": [],
   "source": [
    "starmap(os.path.join, product([Path.GST_SECURITY], os.listdir(Path.GST_SECURITY), date_list, fqtype_list))"
   ]
  },
  {
   "cell_type": "markdown",
   "metadata": {},
   "source": [
    "#### 克隆迭代器 itertools.tee(iterable[, n=2])\n",
    "\n",
    "为了克隆原始迭代器，生成的项会被缓存，并在所有新创建的迭代器中使用，一定要注意，不要在调用tee()之后使用原始迭代器iterable，否则缓存机制可能无法正确工作"
   ]
  },
  {
   "cell_type": "code",
   "execution_count": 58,
   "metadata": {
    "collapsed": false
   },
   "outputs": [
    {
     "name": "stdout",
     "output_type": "stream",
     "text": [
      "i1: 0\n",
      "i1: 1\n",
      "i2: 0\n",
      "i2: 1\n"
     ]
    }
   ],
   "source": [
    "r = islice(count(), 2)\n",
    "i1, i2 = tee(r)\n",
    "\n",
    "for i in i1:\n",
    "    print 'i1:', i\n",
    "for i in i2:\n",
    "    print 'i2:', i"
   ]
  },
  {
   "cell_type": "markdown",
   "metadata": {},
   "source": [
    "#### zip iter版 itertools.izip(*iterables)\n",
    "\n",
    "会按最短的iter对齐"
   ]
  },
  {
   "cell_type": "code",
   "execution_count": 63,
   "metadata": {
    "collapsed": false
   },
   "outputs": [
    {
     "name": "stdout",
     "output_type": "stream",
     "text": [
      "(1, 'a', 'A')\n",
      "(2, 'b', 'B')\n"
     ]
    }
   ],
   "source": [
    "for i in izip([1, 2, 3], ['a', 'b'],['A', 'B', 'C']):\n",
    "    print i"
   ]
  },
  {
   "cell_type": "markdown",
   "metadata": {},
   "source": [
    "#### zip iter版  itertools.izip_longest(*iterables[, fillvalue])\n",
    "\n",
    "会按最长的iter对齐\n",
    "如果没有使用fillvalue关键字参数指定不同的值，则使用None来填充已经使用的迭代变量的值"
   ]
  },
  {
   "cell_type": "code",
   "execution_count": 65,
   "metadata": {
    "collapsed": false
   },
   "outputs": [
    {
     "name": "stdout",
     "output_type": "stream",
     "text": [
      "(1, 'a', 'A')\n",
      "(2, 'b', 'B')\n",
      "(3, None, 'C')\n"
     ]
    }
   ],
   "source": [
    "for i in izip_longest([1, 2, 3], ['a', 'b'],['A', 'B', 'C']):\n",
    "    print i"
   ]
  },
  {
   "cell_type": "markdown",
   "metadata": {},
   "source": [
    "# 组合生成器\n",
    "\n",
    "#### 组合多个迭代器 itertools.chain(*iterables)"
   ]
  },
  {
   "cell_type": "code",
   "execution_count": 2,
   "metadata": {
    "collapsed": false
   },
   "outputs": [
    {
     "name": "stdout",
     "output_type": "stream",
     "text": [
      "1\n",
      "2\n",
      "a\n",
      "b\n"
     ]
    }
   ],
   "source": [
    "for i in chain([1, 2], ['a', 'b']): print i"
   ]
  },
  {
   "cell_type": "code",
   "execution_count": 3,
   "metadata": {
    "collapsed": true
   },
   "outputs": [],
   "source": [
    "def flatmap(f, items): return chain.from_iterable(imap(f, items))"
   ]
  },
  {
   "cell_type": "code",
   "execution_count": 4,
   "metadata": {
    "collapsed": false
   },
   "outputs": [
    {
     "data": {
      "text/plain": [
       "['.DS_Store',\n",
       " '.ipynb_checkpoints',\n",
       " 'itertools.ipynb',\n",
       " '.DS_Store',\n",
       " 'base.md',\n",
       " 'deep.md',\n",
       " 'inner_type.png',\n",
       " 'ipython.md',\n",
       " 'libs.md',\n",
       " 'module.md',\n",
       " 'notebook',\n",
       " 'numpy.md',\n",
       " 'project.md',\n",
       " 'py-ml-algorithms.jpg',\n",
       " 'pyalgotrade.md',\n",
       " 'qa.md',\n",
       " 'README.md',\n",
       " 'skill.md',\n",
       " '\\xe3\\x80\\x8aPython Cookbook\\xe3\\x80\\x8b\\xe7\\xac\\xac\\xe4\\xb8\\x89\\xe7\\x89\\x88\\xe4\\xb8\\xad\\xe6\\x96\\x87v2.0.0.pdf']"
      ]
     },
     "execution_count": 4,
     "metadata": {},
     "output_type": "execute_result"
    }
   ],
   "source": [
    "import os\n",
    "list(flatmap(os.listdir, ['.','..']))"
   ]
  },
  {
   "cell_type": "markdown",
   "metadata": {},
   "source": [
    "#### 笛卡尔积 itertools.product(*iterables[, repeat])"
   ]
  },
  {
   "cell_type": "code",
   "execution_count": null,
   "metadata": {
    "collapsed": true
   },
   "outputs": [],
   "source": []
  },
  {
   "cell_type": "code",
   "execution_count": 75,
   "metadata": {
    "collapsed": false
   },
   "outputs": [
    {
     "name": "stdout",
     "output_type": "stream",
     "text": [
      "(1, 'a')\n",
      "(2, 'a')\n"
     ]
    }
   ],
   "source": [
    "for i in product((1,2),['a']): print i"
   ]
  },
  {
   "cell_type": "markdown",
   "metadata": {},
   "source": [
    "#### 排列 itertools.permutations(iterable[, r])"
   ]
  },
  {
   "cell_type": "code",
   "execution_count": 76,
   "metadata": {
    "collapsed": false
   },
   "outputs": [
    {
     "name": "stdout",
     "output_type": "stream",
     "text": [
      "(0, 1, 2)\n",
      "(0, 2, 1)\n",
      "(1, 0, 2)\n",
      "(1, 2, 0)\n",
      "(2, 0, 1)\n",
      "(2, 1, 0)\n"
     ]
    }
   ],
   "source": [
    "for i in permutations(range(3)):print i"
   ]
  },
  {
   "cell_type": "markdown",
   "metadata": {},
   "source": [
    "#### 组合 itertools.combinations(iterable, r)"
   ]
  },
  {
   "cell_type": "code",
   "execution_count": 78,
   "metadata": {
    "collapsed": false
   },
   "outputs": [
    {
     "name": "stdout",
     "output_type": "stream",
     "text": [
      "(0, 1)\n",
      "(0, 2)\n",
      "(1, 2)\n"
     ]
    }
   ],
   "source": [
    "for i in combinations(range(3), 2):print i"
   ]
  },
  {
   "cell_type": "markdown",
   "metadata": {},
   "source": [
    "#### 组合 带自身 itertools.combinations_with_replacement(iterable, r)"
   ]
  },
  {
   "cell_type": "code",
   "execution_count": 79,
   "metadata": {
    "collapsed": false
   },
   "outputs": [
    {
     "name": "stdout",
     "output_type": "stream",
     "text": [
      "(0, 0)\n",
      "(0, 1)\n",
      "(0, 2)\n",
      "(1, 1)\n",
      "(1, 2)\n",
      "(2, 2)\n"
     ]
    }
   ],
   "source": [
    "for i in combinations_with_replacement(range(3), 2):print i"
   ]
  },
  {
   "cell_type": "markdown",
   "metadata": {},
   "source": [
    "# 扩展"
   ]
  },
  {
   "cell_type": "code",
   "execution_count": 81,
   "metadata": {
    "collapsed": false
   },
   "outputs": [
    {
     "name": "stdout",
     "output_type": "stream",
     "text": [
      "('a', 'b', 'c')\n",
      "('d', 'e', 'f')\n",
      "('g',)\n"
     ]
    }
   ],
   "source": [
    "from itertools import chain, islice\n",
    "def chunks(iterable, size, format=iter):\n",
    "    it = iter(iterable)\n",
    "    while True:\n",
    "        yield format(chain((it.next(),), islice(it, size - 1)))\n",
    "\n",
    "l = [\"a\", \"b\", \"c\", \"d\", \"e\", \"f\", \"g\"]\n",
    "for chunk in chunks(l, 3, tuple):print chunk"
   ]
  },
  {
   "cell_type": "markdown",
   "metadata": {},
   "source": [
    "理解迭代的内部机制：\n",
    "\n",
    "```\n",
    "迭代(iteration）就是对可迭代对象（iterables，实现了__iter__()方法）和迭代器（iterators，实现了__next__()方法）的一个操作过程。可迭代对象是任何可返回一个迭代器的对象，迭代器是应用在迭代对象中迭代的对象，换一种方式说的话就是：iterable对象的__iter__()方法可以返回iterator对象，iterator通过调用next()方法获取其中的每一个值(译者注)，读者可以结合Java API中的 Iterable接口和Iterator接口进行类比。\n",
    "```"
   ]
  },
  {
   "cell_type": "code",
   "execution_count": null,
   "metadata": {
    "collapsed": true
   },
   "outputs": [],
   "source": []
  }
 ],
 "metadata": {
  "kernelspec": {
   "display_name": "Python 2",
   "language": "python",
   "name": "python2"
  },
  "language_info": {
   "codemirror_mode": {
    "name": "ipython",
    "version": 2
   },
   "file_extension": ".py",
   "mimetype": "text/x-python",
   "name": "python",
   "nbconvert_exporter": "python",
   "pygments_lexer": "ipython2",
   "version": "2.7.11"
  }
 },
 "nbformat": 4,
 "nbformat_minor": 0
}
